{
 "cells": [
  {
   "cell_type": "code",
   "execution_count": 33,
   "metadata": {},
   "outputs": [
    {
     "data": {
      "text/html": [
       "<div>\n",
       "<style scoped>\n",
       "    .dataframe tbody tr th:only-of-type {\n",
       "        vertical-align: middle;\n",
       "    }\n",
       "\n",
       "    .dataframe tbody tr th {\n",
       "        vertical-align: top;\n",
       "    }\n",
       "\n",
       "    .dataframe thead th {\n",
       "        text-align: right;\n",
       "    }\n",
       "</style>\n",
       "<table border=\"1\" class=\"dataframe\">\n",
       "  <thead>\n",
       "    <tr style=\"text-align: right;\">\n",
       "      <th></th>\n",
       "      <th>Mes</th>\n",
       "      <th>Teléfonos</th>\n",
       "      <th>Laptops</th>\n",
       "      <th>Tabletas</th>\n",
       "    </tr>\n",
       "  </thead>\n",
       "  <tbody>\n",
       "    <tr>\n",
       "      <th>0</th>\n",
       "      <td>Enero</td>\n",
       "      <td>120</td>\n",
       "      <td>80</td>\n",
       "      <td>50</td>\n",
       "    </tr>\n",
       "    <tr>\n",
       "      <th>1</th>\n",
       "      <td>Febrero</td>\n",
       "      <td>110</td>\n",
       "      <td>85</td>\n",
       "      <td>60</td>\n",
       "    </tr>\n",
       "    <tr>\n",
       "      <th>2</th>\n",
       "      <td>Marzo</td>\n",
       "      <td>130</td>\n",
       "      <td>90</td>\n",
       "      <td>65</td>\n",
       "    </tr>\n",
       "    <tr>\n",
       "      <th>3</th>\n",
       "      <td>Abril</td>\n",
       "      <td>140</td>\n",
       "      <td>95</td>\n",
       "      <td>70</td>\n",
       "    </tr>\n",
       "    <tr>\n",
       "      <th>4</th>\n",
       "      <td>Mayo</td>\n",
       "      <td>150</td>\n",
       "      <td>100</td>\n",
       "      <td>75</td>\n",
       "    </tr>\n",
       "    <tr>\n",
       "      <th>5</th>\n",
       "      <td>Junio</td>\n",
       "      <td>160</td>\n",
       "      <td>110</td>\n",
       "      <td>80</td>\n",
       "    </tr>\n",
       "    <tr>\n",
       "      <th>6</th>\n",
       "      <td>Julio</td>\n",
       "      <td>155</td>\n",
       "      <td>105</td>\n",
       "      <td>85</td>\n",
       "    </tr>\n",
       "    <tr>\n",
       "      <th>7</th>\n",
       "      <td>Agosto</td>\n",
       "      <td>150</td>\n",
       "      <td>100</td>\n",
       "      <td>90</td>\n",
       "    </tr>\n",
       "    <tr>\n",
       "      <th>8</th>\n",
       "      <td>Septiembre</td>\n",
       "      <td>145</td>\n",
       "      <td>95</td>\n",
       "      <td>95</td>\n",
       "    </tr>\n",
       "    <tr>\n",
       "      <th>9</th>\n",
       "      <td>Octubre</td>\n",
       "      <td>140</td>\n",
       "      <td>90</td>\n",
       "      <td>100</td>\n",
       "    </tr>\n",
       "    <tr>\n",
       "      <th>10</th>\n",
       "      <td>Noviembre</td>\n",
       "      <td>135</td>\n",
       "      <td>85</td>\n",
       "      <td>105</td>\n",
       "    </tr>\n",
       "    <tr>\n",
       "      <th>11</th>\n",
       "      <td>Diciembre</td>\n",
       "      <td>130</td>\n",
       "      <td>80</td>\n",
       "      <td>110</td>\n",
       "    </tr>\n",
       "  </tbody>\n",
       "</table>\n",
       "</div>"
      ],
      "text/plain": [
       "           Mes  Teléfonos  Laptops  Tabletas\n",
       "0        Enero        120       80        50\n",
       "1      Febrero        110       85        60\n",
       "2        Marzo        130       90        65\n",
       "3        Abril        140       95        70\n",
       "4         Mayo        150      100        75\n",
       "5        Junio        160      110        80\n",
       "6        Julio        155      105        85\n",
       "7       Agosto        150      100        90\n",
       "8   Septiembre        145       95        95\n",
       "9      Octubre        140       90       100\n",
       "10   Noviembre        135       85       105\n",
       "11   Diciembre        130       80       110"
      ]
     },
     "execution_count": 33,
     "metadata": {},
     "output_type": "execute_result"
    }
   ],
   "source": [
    "import pandas as pd\n",
    "\n",
    "ventas_df = pd.read_csv(\"ventas_mensuales.csv\")\n",
    "\n",
    "ventas_df"
   ]
  },
  {
   "cell_type": "code",
   "execution_count": 35,
   "metadata": {},
   "outputs": [],
   "source": [
    "meses = ventas_df[\"Mes\"].to_numpy()\n",
    "telefonos = ventas_df[\"Teléfonos\"].to_numpy()\n",
    "laptos = ventas_df[\"Laptops\"].to_numpy()\n",
    "tablets = ventas_df[\"Tabletas\"].to_numpy()"
   ]
  },
  {
   "cell_type": "code",
   "execution_count": 23,
   "metadata": {},
   "outputs": [
    {
     "data": {
      "image/png": "[encoded data removed]",
      "text/plain": [
       "<Figure size 640x480 with 1 Axes>"
      ]
     },
     "metadata": {},
     "output_type": "display_data"
    }
   ],
   "source": [
    "# Visualización de Ventas Mensuales\n",
    "# Utiliza un gráfico de líneas para visualizar las ventas de cada producto a lo largo del año.\n",
    "\n",
    "import matplotlib.pyplot as plt\n",
    "plt.plot(meses, telefonos, marker='o', linestyle='-', color='blue')\n",
    "plt.plot(meses, laptos, marker='v', linestyle=':',color='green')\n",
    "plt.plot(meses, tablets, marker='s', linestyle='--', color='red')\n",
    "plt.title(\"Ventas Mensuales de Productos Tecnológicos\")\n",
    "plt.xlabel('Mes')\n",
    "plt.ylabel('Ventas en Unidades')\n",
    "plt.xticks(rotation=45)\n",
    "plt.grid()\n",
    "plt.legend([\"Teléfonos\", \"Laptops\", \"Tabletas\"], loc='upper right')\n",
    "\n",
    "plt.show()\n"
   ]
  },
  {
   "cell_type": "code",
   "execution_count": 28,
   "metadata": {},
   "outputs": [
    {
     "data": {
      "image/png": "[encoded data removed]",
      "text/plain": [
       "<Figure size 640x480 with 1 Axes>"
      ]
     },
     "metadata": {},
     "output_type": "display_data"
    }
   ],
   "source": [
    "'''2. Comparación de Ventas Totales Anuales\n",
    "Crea un gráfico de barras para comparar las ventas totales anuales de los tres productos.\n",
    "\n",
    "Utiliza barras de diferentes colores para cada producto.\n",
    "\n",
    "Asegúrate de incluir una leyenda que identifique cada producto.\n",
    "'''\n",
    "\n",
    "import matplotlib.pyplot as plt\n",
    "\n",
    "telefonos_total = sum(telefonos)\n",
    "laptos_total = sum(laptos)\n",
    "tablets_total = sum(tablets)\n",
    "\n",
    "productos = [\"Teléfonos\", \"Laptops\", \"Tabletas\"]\n",
    "ventas = [telefonos_total, laptos_total, tablets_total]\n",
    "plt.bar(productos, ventas, color=['blue', 'green', 'red'])\n",
    "plt.title(\"Ventas Totales Anuales\")\n",
    "plt.xlabel(\"Productos\")\n",
    "plt.ylabel(\"Ventas en Unidades\")\n",
    "\n",
    "plt.show()\n",
    "\n"
   ]
  },
  {
   "cell_type": "code",
   "execution_count": 32,
   "metadata": {},
   "outputs": [
    {
     "data": {
      "image/png": "[encoded data removed]",
      "text/plain": [
       "<Figure size 640x480 with 1 Axes>"
      ]
     },
     "metadata": {},
     "output_type": "display_data"
    }
   ],
   "source": [
    "''' Análisis de la Relación entre Laptops y Tabletas\n",
    "Realiza un gráfico de dispersión para explorar la relación entre las ventas de laptops y tabletas.\n",
    "\n",
    "Proporciona títulos y etiquetas claras.\n",
    "''' \n",
    "\n",
    "import matplotlib.pyplot as plt\n",
    "plt.scatter(laptos, tablets, color='purple', marker='x')\n",
    "\n",
    "plt.title(\"Relación entre Laptops y Tabletas\")\n",
    "plt.xlabel(\"Ventas de tablets en unidades\")\n",
    "plt.ylabel(\"Ventas de laptops en unidades\")\n",
    "\n",
    "plt.show()\n"
   ]
  },
  {
   "cell_type": "markdown",
   "metadata": {},
   "source": [
    "Segunda parte de los Graficos \n"
   ]
  },
  {
   "cell_type": "code",
   "execution_count": null,
   "metadata": {},
   "outputs": [],
   "source": [
    "import pandas as pd\n",
    "\n",
    "ventas_df = pd.read_csv(\"ventas_mensuales.csv\")\n",
    "\n",
    "ventas_df"
   ]
  },
  {
   "cell_type": "code",
   "execution_count": 4,
   "metadata": {},
   "outputs": [],
   "source": [
    "\n",
    "meses = ventas_df[\"Mes\"].to_numpy()\n",
    "telefonos = ventas_df[\"Teléfonos\"].to_numpy()\n",
    "laptos = ventas_df[\"Laptops\"].to_numpy()\n",
    "tablets = ventas_df[\"Tabletas\"].to_numpy()"
   ]
  },
  {
   "cell_type": "code",
   "execution_count": 5,
   "metadata": {},
   "outputs": [
    {
     "data": {
      "image/png": "[encoded data removed]",
      "text/plain": [
       "<Figure size 640x480 with 1 Axes>"
      ]
     },
     "metadata": {},
     "output_type": "display_data"
    }
   ],
   "source": [
    "'''\n",
    "1. Análisis de Tendencias con Subplots\n",
    "Utiliza subplots para mostrar gráficos de líneas de las ventas mensuales de cada categoría de producto.\n",
    "\n",
    "Aplica un estilo diferente de Matplotlib para cada subplot.\n",
    "\n",
    "'''\n",
    "\n",
    "\n",
    "# Visualización de Ventas Mensuales\n",
    "# Utiliza un gráfico de líneas para visualizar las ventas de cada producto a lo largo del año.\n",
    "\n",
    "import matplotlib.pyplot as plt\n",
    "plt.plot(meses, telefonos, marker='o', linestyle='-', color='blue')\n",
    "plt.plot(meses, laptos, marker='v', linestyle=':',color='green')\n",
    "plt.plot(meses, tablets, marker='s', linestyle='--', color='red')\n",
    "plt.title(\"Ventas Mensuales de Productos Tecnológicos\")\n",
    "plt.xlabel('Mes')\n",
    "plt.ylabel('Ventas en Unidades')\n",
    "plt.xticks(rotation=45)\n",
    "plt.grid()\n",
    "plt.legend([\"Teléfonos\", \"Laptops\", \"Tabletas\"], loc='upper right')\n",
    "\n",
    "plt.show()\n",
    "\n"
   ]
  },
  {
   "cell_type": "code",
   "execution_count": 48,
   "metadata": {},
   "outputs": [
    {
     "data": {
      "image/png": "[encoded data removed]",
      "text/plain": [
       "<Figure size 1200x1000 with 3 Axes>"
      ]
     },
     "metadata": {},
     "output_type": "display_data"
    }
   ],
   "source": [
    "''' \n",
    "Análisis de Tendencias con Subplots\n",
    "Utiliza subplots para mostrar gráficos de líneas de las ventas mensuales de cada categoría de producto.\n",
    "\n",
    "Aplica un estilo diferente de Matplotlib para cada subplot.\n",
    "'''\n",
    "\n",
    "import matplotlib.pyplot as plt\n",
    "\n",
    "fig, (ax1, ax2, ax3) = plt.subplots(3, 1, figsize=(12, 10))\n",
    "\n",
    "ax1.plot(meses, telefonos, marker='o', linestyle='-', color='blue')\n",
    "ax1.set_title(\"Ventas  mensuales de Teléfono\")\n",
    "ax1.set_ylabel(\"Unidades vendidas\")\n",
    "\n",
    "ax2.plot(meses, laptos, marker='v', linestyle=':',color='green')\n",
    "ax2.set_title(\"Ventas  mensuales de Laptops\")\n",
    "ax1.set_ylabel(\"Unidades vendidas\")\n",
    "\n",
    "ax3.plot(meses, tablets, marker='s', linestyle='--', color='red')\n",
    "ax3.set_title(\"Ventas mensuales de Tablets\")\n",
    "ax1.set_ylabel(\"Unidades vendidas\")\n",
    "\n",
    "plt.show()"
   ]
  },
  {
   "cell_type": "code",
   "execution_count": 42,
   "metadata": {},
   "outputs": [
    {
     "data": {
      "image/png": "[encoded data removed]",
      "text/plain": [
       "<Figure size 640x480 with 1 Axes>"
      ]
     },
     "metadata": {},
     "output_type": "display_data"
    }
   ],
   "source": [
    "''' \n",
    "2. Visualización de Proporciones con Gráfico de Torta\n",
    "Calcula las ventas totales anuales para cada categoría y \n",
    "crea un gráfico de torta para mostrar la proporción de ventas de cada categoría en el año.\n",
    "'''\n",
    "\n",
    "import matplotlib.pyplot as plt\n",
    "\n",
    "telefonos_total = sum(telefonos)\n",
    "laptos_total = sum(laptos)\n",
    "tablets_total = sum(tablets)\n",
    "\n",
    "productos = [\"Teléfonos\", \"Laptops\", \"Tabletas\"]\n",
    "ventas = [telefonos_total, laptos_total, tablets_total]\n",
    "plt.pie(ventas, labels=productos, autopct='%1.1f%%', startangle=90)\n",
    "plt.title(\"Porporción de Ventas Totales Anuales\")\n",
    "\n",
    "plt.show()\n",
    "\n"
   ]
  },
  {
   "cell_type": "code",
   "execution_count": 43,
   "metadata": {},
   "outputs": [
    {
     "data": {
      "image/png": "[encoded data removed]",
      "text/plain": [
       "<Figure size 640x480 with 1 Axes>"
      ]
     },
     "metadata": {},
     "output_type": "display_data"
    }
   ],
   "source": [
    "''' \n",
    "Análisis de Variabilidad con Boxplots\n",
    "Genera boxplots para cada categoría de producto y \n",
    "analiza la variabilidad y presencia de valores atípicos en las ventas mensuales.\n",
    "'''\n",
    "\n",
    "import matplotlib.pyplot as plt\n",
    "\n",
    "plt.boxplot([telefonos, laptos, tablets], labels=productos)\n",
    "plt.title(\"boxplot de ventas mensuales por producto\")\n",
    "plt.xlabel(\"Productos\")\n",
    "plt.ylabel(\"Unidades Vendidas\")\n",
    "\n",
    "plt.show()\n"
   ]
  },
  {
   "cell_type": "markdown",
   "metadata": {},
   "source": [
    "Graficas con Plotly GO"
   ]
  },
  {
   "cell_type": "code",
   "execution_count": 1,
   "metadata": {},
   "outputs": [
    {
     "data": {
      "application/vnd.plotly.v1+json": {
       "config": {
        "plotlyServerURL": "https://plot.ly"
       },
       "data": [
        {
         "name": "Lineas",
         "type": "scatter",
         "x": [
          "2020-01",
          "2020-02",
          "2020-03",
          "2020-04",
          "2020-05",
          "2020-06",
          "2020-07",
          "2020-08",
          "2020-09",
          "2020-10",
          "2020-11",
          "2020-12"
         ],
         "y": [
          8.341770508594774,
          11.413329964365387,
          16.39164174461119,
          21.616923116323232,
          25.172491079800803,
          26.554528440530348,
          25.86021675504985,
          22.183319190480837,
          17.49219827664546,
          12.551116477055318,
          8.439486760583046,
          6.988592223942789
         ]
        }
       ],
       "layout": {
        "template": {
         "data": {
          "bar": [
           {
            "error_x": {
             "color": "#2a3f5f"
            },
            "error_y": {
             "color": "#2a3f5f"
            },
            "marker": {
             "line": {
              "color": "#E5ECF6",
              "width": 0.5
             },
             "pattern": {
              "fillmode": "overlay",
              "size": 10,
              "solidity": 0.2
             }
            },
            "type": "bar"
           }
          ],
          "barpolar": [
           {
            "marker": {
             "line": {
              "color": "#E5ECF6",
              "width": 0.5
             },
             "pattern": {
              "fillmode": "overlay",
              "size": 10,
              "solidity": 0.2
             }
            },
            "type": "barpolar"
           }
          ],
          "carpet": [
           {
            "aaxis": {
             "endlinecolor": "#2a3f5f",
             "gridcolor": "white",
             "linecolor": "white",
             "minorgridcolor": "white",
             "startlinecolor": "#2a3f5f"
            },
            "baxis": {
             "endlinecolor": "#2a3f5f",
             "gridcolor": "white",
             "linecolor": "white",
             "minorgridcolor": "white",
             "startlinecolor": "#2a3f5f"
            },
            "type": "carpet"
           }
          ],
          "choropleth": [
           {
            "colorbar": {
             "outlinewidth": 0,
             "ticks": ""
            },
            "type": "choropleth"
           }
          ],
          "contour": [
           {
            "colorbar": {
             "outlinewidth": 0,
             "ticks": ""
            },
            "colorscale": [
             [
              0,
              "#0d0887"
             ],
             [
              0.1111111111111111,
              "#46039f"
             ],
             [
              0.2222222222222222,
              "#7201a8"
             ],
             [
              0.3333333333333333,
              "#9c179e"
             ],
             [
              0.4444444444444444,
              "#bd3786"
             ],
             [
              0.5555555555555556,
              "#d8576b"
             ],
             [
              0.6666666666666666,
              "#ed7953"
             ],
             [
              0.7777777777777778,
              "#fb9f3a"
             ],
             [
              0.8888888888888888,
              "#fdca26"
             ],
             [
              1,
              "#f0f921"
             ]
            ],
            "type": "contour"
           }
          ],
          "contourcarpet": [
           {
            "colorbar": {
             "outlinewidth": 0,
             "ticks": ""
            },
            "type": "contourcarpet"
           }
          ],
          "heatmap": [
           {
            "colorbar": {
             "outlinewidth": 0,
             "ticks": ""
            },
            "colorscale": [
             [
              0,
              "#0d0887"
             ],
             [
              0.1111111111111111,
              "#46039f"
             ],
             [
              0.2222222222222222,
              "#7201a8"
             ],
             [
              0.3333333333333333,
              "#9c179e"
             ],
             [
              0.4444444444444444,
              "#bd3786"
             ],
             [
              0.5555555555555556,
              "#d8576b"
             ],
             [
              0.6666666666666666,
              "#ed7953"
             ],
             [
              0.7777777777777778,
              "#fb9f3a"
             ],
             [
              0.8888888888888888,
              "#fdca26"
             ],
             [
              1,
              "#f0f921"
             ]
            ],
            "type": "heatmap"
           }
          ],
          "heatmapgl": [
           {
            "colorbar": {
             "outlinewidth": 0,
             "ticks": ""
            },
            "colorscale": [
             [
              0,
              "#0d0887"
             ],
             [
              0.1111111111111111,
              "#46039f"
             ],
             [
              0.2222222222222222,
              "#7201a8"
             ],
             [
              0.3333333333333333,
              "#9c179e"
             ],
             [
              0.4444444444444444,
              "#bd3786"
             ],
             [
              0.5555555555555556,
              "#d8576b"
             ],
             [
              0.6666666666666666,
              "#ed7953"
             ],
             [
              0.7777777777777778,
              "#fb9f3a"
             ],
             [
              0.8888888888888888,
              "#fdca26"
             ],
             [
              1,
              "#f0f921"
             ]
            ],
            "type": "heatmapgl"
           }
          ],
          "histogram": [
           {
            "marker": {
             "pattern": {
              "fillmode": "overlay",
              "size": 10,
              "solidity": 0.2
             }
            },
            "type": "histogram"
           }
          ],
          "histogram2d": [
           {
            "colorbar": {
             "outlinewidth": 0,
             "ticks": ""
            },
            "colorscale": [
             [
              0,
              "#0d0887"
             ],
             [
              0.1111111111111111,
              "#46039f"
             ],
             [
              0.2222222222222222,
              "#7201a8"
             ],
             [
              0.3333333333333333,
              "#9c179e"
             ],
             [
              0.4444444444444444,
              "#bd3786"
             ],
             [
              0.5555555555555556,
              "#d8576b"
             ],
             [
              0.6666666666666666,
              "#ed7953"
             ],
             [
              0.7777777777777778,
              "#fb9f3a"
             ],
             [
              0.8888888888888888,
              "#fdca26"
             ],
             [
              1,
              "#f0f921"
             ]
            ],
            "type": "histogram2d"
           }
          ],
          "histogram2dcontour": [
           {
            "colorbar": {
             "outlinewidth": 0,
             "ticks": ""
            },
            "colorscale": [
             [
              0,
              "#0d0887"
             ],
             [
              0.1111111111111111,
              "#46039f"
             ],
             [
              0.2222222222222222,
              "#7201a8"
             ],
             [
              0.3333333333333333,
              "#9c179e"
             ],
             [
              0.4444444444444444,
              "#bd3786"
             ],
             [
              0.5555555555555556,
              "#d8576b"
             ],
             [
              0.6666666666666666,
              "#ed7953"
             ],
             [
              0.7777777777777778,
              "#fb9f3a"
             ],
             [
              0.8888888888888888,
              "#fdca26"
             ],
             [
              1,
              "#f0f921"
             ]
            ],
            "type": "histogram2dcontour"
           }
          ],
          "mesh3d": [
           {
            "colorbar": {
             "outlinewidth": 0,
             "ticks": ""
            },
            "type": "mesh3d"
           }
          ],
          "parcoords": [
           {
            "line": {
             "colorbar": {
              "outlinewidth": 0,
              "ticks": ""
             }
            },
            "type": "parcoords"
           }
          ],
          "pie": [
           {
            "automargin": true,
            "type": "pie"
           }
          ],
          "scatter": [
           {
            "fillpattern": {
             "fillmode": "overlay",
             "size": 10,
             "solidity": 0.2
            },
            "type": "scatter"
           }
          ],
          "scatter3d": [
           {
            "line": {
             "colorbar": {
              "outlinewidth": 0,
              "ticks": ""
             }
            },
            "marker": {
             "colorbar": {
              "outlinewidth": 0,
              "ticks": ""
             }
            },
            "type": "scatter3d"
           }
          ],
          "scattercarpet": [
           {
            "marker": {
             "colorbar": {
              "outlinewidth": 0,
              "ticks": ""
             }
            },
            "type": "scattercarpet"
           }
          ],
          "scattergeo": [
           {
            "marker": {
             "colorbar": {
              "outlinewidth": 0,
              "ticks": ""
             }
            },
            "type": "scattergeo"
           }
          ],
          "scattergl": [
           {
            "marker": {
             "colorbar": {
              "outlinewidth": 0,
              "ticks": ""
             }
            },
            "type": "scattergl"
           }
          ],
          "scattermapbox": [
           {
            "marker": {
             "colorbar": {
              "outlinewidth": 0,
              "ticks": ""
             }
            },
            "type": "scattermapbox"
           }
          ],
          "scatterpolar": [
           {
            "marker": {
             "colorbar": {
              "outlinewidth": 0,
              "ticks": ""
             }
            },
            "type": "scatterpolar"
           }
          ],
          "scatterpolargl": [
           {
            "marker": {
             "colorbar": {
              "outlinewidth": 0,
              "ticks": ""
             }
            },
            "type": "scatterpolargl"
           }
          ],
          "scatterternary": [
           {
            "marker": {
             "colorbar": {
              "outlinewidth": 0,
              "ticks": ""
             }
            },
            "type": "scatterternary"
           }
          ],
          "surface": [
           {
            "colorbar": {
             "outlinewidth": 0,
             "ticks": ""
            },
            "colorscale": [
             [
              0,
              "#0d0887"
             ],
             [
              0.1111111111111111,
              "#46039f"
             ],
             [
              0.2222222222222222,
              "#7201a8"
             ],
             [
              0.3333333333333333,
              "#9c179e"
             ],
             [
              0.4444444444444444,
              "#bd3786"
             ],
             [
              0.5555555555555556,
              "#d8576b"
             ],
             [
              0.6666666666666666,
              "#ed7953"
             ],
             [
              0.7777777777777778,
              "#fb9f3a"
             ],
             [
              0.8888888888888888,
              "#fdca26"
             ],
             [
              1,
              "#f0f921"
             ]
            ],
            "type": "surface"
           }
          ],
          "table": [
           {
            "cells": {
             "fill": {
              "color": "#EBF0F8"
             },
             "line": {
              "color": "white"
             }
            },
            "header": {
             "fill": {
              "color": "#C8D4E3"
             },
             "line": {
              "color": "white"
             }
            },
            "type": "table"
           }
          ]
         },
         "layout": {
          "annotationdefaults": {
           "arrowcolor": "#2a3f5f",
           "arrowhead": 0,
           "arrowwidth": 1
          },
          "autotypenumbers": "strict",
          "coloraxis": {
           "colorbar": {
            "outlinewidth": 0,
            "ticks": ""
           }
          },
          "colorscale": {
           "diverging": [
            [
             0,
             "#8e0152"
            ],
            [
             0.1,
             "#c51b7d"
            ],
            [
             0.2,
             "#de77ae"
            ],
            [
             0.3,
             "#f1b6da"
            ],
            [
             0.4,
             "#fde0ef"
            ],
            [
             0.5,
             "#f7f7f7"
            ],
            [
             0.6,
             "#e6f5d0"
            ],
            [
             0.7,
             "#b8e186"
            ],
            [
             0.8,
             "#7fbc41"
            ],
            [
             0.9,
             "#4d9221"
            ],
            [
             1,
             "#276419"
            ]
           ],
           "sequential": [
            [
             0,
             "#0d0887"
            ],
            [
             0.1111111111111111,
             "#46039f"
            ],
            [
             0.2222222222222222,
             "#7201a8"
            ],
            [
             0.3333333333333333,
             "#9c179e"
            ],
            [
             0.4444444444444444,
             "#bd3786"
            ],
            [
             0.5555555555555556,
             "#d8576b"
            ],
            [
             0.6666666666666666,
             "#ed7953"
            ],
            [
             0.7777777777777778,
             "#fb9f3a"
            ],
            [
             0.8888888888888888,
             "#fdca26"
            ],
            [
             1,
             "#f0f921"
            ]
           ],
           "sequentialminus": [
            [
             0,
             "#0d0887"
            ],
            [
             0.1111111111111111,
             "#46039f"
            ],
            [
             0.2222222222222222,
             "#7201a8"
            ],
            [
             0.3333333333333333,
             "#9c179e"
            ],
            [
             0.4444444444444444,
             "#bd3786"
            ],
            [
             0.5555555555555556,
             "#d8576b"
            ],
            [
             0.6666666666666666,
             "#ed7953"
            ],
            [
             0.7777777777777778,
             "#fb9f3a"
            ],
            [
             0.8888888888888888,
             "#fdca26"
            ],
            [
             1,
             "#f0f921"
            ]
           ]
          },
          "colorway": [
           "#636efa",
           "#EF553B",
           "#00cc96",
           "#ab63fa",
           "#FFA15A",
           "#19d3f3",
           "#FF6692",
           "#B6E880",
           "#FF97FF",
           "#FECB52"
          ],
          "font": {
           "color": "#2a3f5f"
          },
          "geo": {
           "bgcolor": "white",
           "lakecolor": "white",
           "landcolor": "#E5ECF6",
           "showlakes": true,
           "showland": true,
           "subunitcolor": "white"
          },
          "hoverlabel": {
           "align": "left"
          },
          "hovermode": "closest",
          "mapbox": {
           "style": "light"
          },
          "paper_bgcolor": "white",
          "plot_bgcolor": "#E5ECF6",
          "polar": {
           "angularaxis": {
            "gridcolor": "white",
            "linecolor": "white",
            "ticks": ""
           },
           "bgcolor": "#E5ECF6",
           "radialaxis": {
            "gridcolor": "white",
            "linecolor": "white",
            "ticks": ""
           }
          },
          "scene": {
           "xaxis": {
            "backgroundcolor": "#E5ECF6",
            "gridcolor": "white",
            "gridwidth": 2,
            "linecolor": "white",
            "showbackground": true,
            "ticks": "",
            "zerolinecolor": "white"
           },
           "yaxis": {
            "backgroundcolor": "#E5ECF6",
            "gridcolor": "white",
            "gridwidth": 2,
            "linecolor": "white",
            "showbackground": true,
            "ticks": "",
            "zerolinecolor": "white"
           },
           "zaxis": {
            "backgroundcolor": "#E5ECF6",
            "gridcolor": "white",
            "gridwidth": 2,
            "linecolor": "white",
            "showbackground": true,
            "ticks": "",
            "zerolinecolor": "white"
           }
          },
          "shapedefaults": {
           "line": {
            "color": "#2a3f5f"
           }
          },
          "ternary": {
           "aaxis": {
            "gridcolor": "white",
            "linecolor": "white",
            "ticks": ""
           },
           "baxis": {
            "gridcolor": "white",
            "linecolor": "white",
            "ticks": ""
           },
           "bgcolor": "#E5ECF6",
           "caxis": {
            "gridcolor": "white",
            "linecolor": "white",
            "ticks": ""
           }
          },
          "title": {
           "x": 0.05
          },
          "xaxis": {
           "automargin": true,
           "gridcolor": "white",
           "linecolor": "white",
           "ticks": "",
           "title": {
            "standoff": 15
           },
           "zerolinecolor": "white",
           "zerolinewidth": 2
          },
          "yaxis": {
           "automargin": true,
           "gridcolor": "white",
           "linecolor": "white",
           "ticks": "",
           "title": {
            "standoff": 15
           },
           "zerolinecolor": "white",
           "zerolinewidth": 2
          }
         }
        },
        "title": {
         "text": "Temperatura media mensual en madrid (2020)"
        },
        "xaxis": {
         "title": {
          "text": "Mes"
         }
        },
        "yaxis": {
         "title": {
          "text": "Temperatura"
         }
        }
       }
      }
     },
     "metadata": {},
     "output_type": "display_data"
    }
   ],
   "source": [
    "'''\n",
    "Eres un analista de datos en una organización de investigación climática. Se te ha asignado la tarea de analizar datos climáticos históricos para identificar patrones y tendencias.\n",
    "\n",
    "Conjunto de Datos:\n",
    "El conjunto de datos datos_climaticos.csv contiene información sobre diferentes parámetros climáticos registrados en varias ciudades a lo largo de varios años.\n",
    "\n",
    "Estructura del archivo CSV:\n",
    "\n",
    "Ciudad: Nombre de la ciudad.\n",
    "Fecha: Fecha de la observación.\n",
    "Temperatura: Temperatura media diaria en grados Celsius.\n",
    "Precipitación: Cantidad de lluvia en mm.\n",
    "Humedad: Porcentaje de humedad.\n",
    "\n",
    "Ejercicios:\n",
    "Análisis de Temperatura: Gráfica de Líneas\n",
    "\n",
    "Crear una gráfica de líneas para mostrar la variación de la temperatura media mensual en una ciudad específica a lo largo de un año.\n",
    "Discutir las tendencias observadas, como los meses más cálidos o más fríos.\n",
    "\n",
    "'''\n",
    "\n",
    "import numpy as np\n",
    "import pandas as pd\n",
    "import plotly.graph_objects as go\n",
    "\n",
    "\n",
    "clima_df = pd.read_csv(\"datos_climaticos.csv\")\n",
    "\n",
    "fechas = clima_df[\"Fecha\"].to_numpy()\n",
    "fig = go.Figure()\n",
    "promedio = []\n",
    "# agrupar las temperaturas por fecha\n",
    "#agrupar por mes\n",
    "meses = [fecha[0:7] for fecha in fechas]\n",
    "#obtener los meses sin repetir\n",
    "meses = np.unique(meses)\n",
    "\n",
    "# agrupar las temperaturas por mes\n",
    "temp_promedio = []\n",
    "for mes in meses:\n",
    "    temp_promedio.append(clima_df[clima_df[\"Fecha\"].str.startswith(mes)][\"Temperatura\"].mean())\n",
    "\n",
    "temp_promedio = np.array(temp_promedio)\n",
    "\n",
    "\n",
    "fig.add_trace(\n",
    "      go.Scatter(\n",
    "          x = meses,\n",
    "          y = temp_promedio,\n",
    "          name = 'Lineas'\n",
    "      ))\n",
    "\n",
    "\n",
    "fig.update_layout(\n",
    "    title = \"Temperatura media mensual en madrid (2020)\",\n",
    "    xaxis_title = \"Mes\",\n",
    "    yaxis_title = \"Temperatura\"\n",
    ")\n",
    "fig.show()\n",
    "\n",
    "\n",
    "\n"
   ]
  },
  {
   "cell_type": "code",
   "execution_count": 5,
   "metadata": {},
   "outputs": [
    {
     "data": {
      "application/vnd.plotly.v1+json": {
       "config": {
        "plotlyServerURL": "https://plot.ly"
       },
       "data": [
        {
         "mode": "markers",
         "name": "Lineas",
         "type": "scatter",
         "x": [
          52.5739306154771,
          64.72301541166398,
          66.75067458837444,
          43.81549365359704,
          61.9083148561852,
          61.31584558612404,
          61.3123646379445,
          58.697742523693954,
          51.5680745691156,
          72.58038051421758,
          59.16159156010325,
          54.76298547599146,
          57.40065732182093,
          60.276767602530455,
          66.08647124713026,
          71.68338986360489,
          55.46820501984929,
          60.20702602445567,
          51.544922719800255,
          31.07700006577624,
          66.55793930731589,
          80,
          70.22083253352824,
          59.92940043857011,
          65.96479142605236,
          53.25179899004939,
          63.7770764196742,
          60.72290746942424,
          56.47285767932617,
          69.05652229804653,
          80,
          80,
          64.27926978677904,
          73.84114654715862,
          73.62707434069625,
          58.52461974314181,
          71.43904073500616,
          50.59007901493849,
          56.94701608148418,
          67.38752870406131,
          60.85212337642874,
          80,
          71.48040434555345,
          61.17961878834028,
          60.29420286886518,
          66.86970608213284,
          54.444687113578176,
          70.95611953294548,
          51.24698050054525,
          71.2301019596074,
          63.35405268019587,
          69.14613518091265,
          54.87414074662036,
          67.44985207088118,
          80,
          60.42783247539335,
          68.17399860329024,
          80,
          72.61704144860134,
          69.31885484144631,
          54.863107274788085,
          52.224116277033495,
          65.5343244068246,
          60.36764144686798,
          64.80941786224709,
          67.05656674019517,
          58.23572161157115,
          69.9410302601392,
          80,
          54.90659012619556,
          60.30453641479089,
          64.50389341320002,
          76.40459673940592,
          53.13617999318298,
          54.34851895615918,
          43.363389871836375,
          60.59637786786151,
          71.80145766021833,
          75.65224708978141,
          68.57153661307731,
          58.99043020617543,
          72.06471613702374,
          67.04318590616116,
          45.7929440107007,
          52.71905167384461,
          80,
          68.22205082975272,
          51.25205611491421,
          73.19953108061785,
          75.61434959762639,
          60.64965970540308,
          71.57682096386786,
          30,
          74.73576795188157,
          76.75155391919876,
          53.75297285236267,
          67.82085399515304,
          61.61879456952561,
          63.97470519229173,
          60.75119555464932,
          51.677045331451794,
          80,
          61.89689150420784,
          66.0475504426223,
          54.90599419748568,
          54.63132838875653,
          69.125984150755,
          70.26392080151113,
          73.77924169324744,
          76.03774002493688,
          62.89792459499238,
          60.55796936007051,
          72.46813832848933,
          58.62560796569565,
          73.71758495897829,
          68.74500287242289,
          76.55026434583498,
          71.7039168884783,
          54.4555417610884,
          56.34366358413973,
          72.32485297007388,
          80,
          51.77188299216982,
          65.23211604325273,
          67.81674557480491,
          49.74222488134453,
          69.78124996363013,
          64.06877207952562,
          44.03442518784352,
          80,
          56.36791780928928,
          52.17496585704958,
          69.20141622211693,
          70.57486795904896,
          72.36411403696272,
          61.13996637790688,
          64.8908566210909,
          57.69193236826135,
          51.89802694367792,
          75.79130649054235,
          63.97237314982206,
          63.17685744577044,
          45.00732408004668,
          63.21628895719664,
          56.57505502908551,
          63.25386346850184,
          62.80755848143127,
          60.53535208667037,
          74.38838642911139,
          69.47054152324156,
          76.27154514471546,
          51.75172630040276,
          58.510440725521846,
          64.59719181677713,
          60.93361030096566,
          64.20742274503262,
          53.17896600691677,
          57.8382194273776,
          48.58446045147987,
          56.09974448226761,
          71.94176720392014,
          62.8579311523405,
          80,
          59.04466125694321,
          66.1907108087233,
          52.86747669847582,
          80,
          63.21379401299543,
          73.29629840299415,
          69.13385020867153,
          59.161211851607234,
          51.6909871846431,
          66.56143124538808,
          59.432102556366665,
          63.44495698508268,
          71.51302058797383,
          65.7824115584038,
          68.77116297368596,
          66.50046576055772,
          50.32750667349492,
          78.96062195701339,
          76.75852296434753,
          53.638351457432826,
          70.05300611427171,
          58.37975729838143,
          57.53083662936729,
          64.95158338664953,
          80,
          75.57957561481885,
          71.05221358331858,
          53.49394364245949,
          80,
          73.73731045660676,
          41.51162580084888,
          68.99474335208492,
          60.113052840819165,
          69.09982355948968,
          69.00640366809526,
          55.81480923529895,
          80,
          66.99784621419424,
          74.4134790651041,
          78.51423564748202,
          57.61842402048013,
          55.88231515193476,
          76.21907348847766,
          78.92837432756858,
          51.22981429208863,
          80,
          62.64496685666147,
          71.91784528512385,
          70.64388209104726,
          55.286576801666726,
          56.359518610527736,
          44.16407660705075,
          53.48849864373439,
          50.17524039257376,
          65.40190515770294,
          78.69402152722083,
          64.72855069333525,
          68.38854162182737,
          72.78003543367929,
          71.797094410203,
          61.14168499888498,
          50.366549391665,
          60.70194489959349,
          65.62959355263905,
          56.28354787229191,
          68.61960710701048,
          62.07287904057858,
          71.21821527510892,
          56.96760523815175,
          55.78032340690616,
          80,
          65.28756237713687,
          70.52963849395536,
          54.01577747107847,
          61.22735544517874,
          71.82169482807615,
          80,
          57.75514925200455,
          56.97082588561033,
          64.77331059655653,
          49.756048502511376,
          64.69866693522374,
          64.35271615384607,
          72.24749150329261,
          79.14609742688971,
          70.69844317800091,
          72.4155105095969,
          65.522789511343,
          61.402554235238405,
          45.040231308432354,
          56.13779180825384,
          67.1726668469333,
          48.54406276210008,
          67.4288982278327,
          60.99165289732049,
          54.7844014741831,
          60.29975683344997,
          72.287815212616,
          73.85501109619477,
          45.629785925507605,
          63.5051598785133,
          74.13884658283507,
          62.421051403906425,
          66.08815270914214,
          50.04589124739731,
          60.19966343181704,
          80,
          57.11931965484651,
          50.59367656803983,
          66.49471758558406,
          72.8862933306574,
          76.93810490625256,
          59.822773578747295,
          67.22475576628719,
          70.44354878285392,
          71.49210527834211,
          59.52797255990456,
          80,
          58.12702977449269,
          72.07872158693135,
          64.78088763854474,
          59.1278143597548,
          58.57148701037432,
          59.13653089079766,
          60.53128934946703,
          54.81114400644091,
          71.9740970321177,
          57.96484684379778,
          58.849791512995054,
          69.88690591208234,
          63.92038056866352,
          50.78096364721088,
          55.639905014557336,
          63.03442755579007,
          59.25012162632533,
          72.5048253725304,
          57.35597971009187,
          55.32872928956789,
          54.89453791221375,
          69.06657246957639,
          69.83471726085733,
          48.27555412429119,
          71.22075196518102,
          73.60973270495947,
          48.09002238190951,
          58.0956857063904,
          79.28892424357976,
          75.0610170602525,
          65.24792659251042,
          70.01249396289433,
          80,
          70.02796973452622,
          52.79191138581108,
          78.64938999600827,
          56.29061109375382,
          74.93902235847835,
          71.56270660956889,
          73.89513553005762,
          80,
          50.34085671492048,
          64.30411445061203,
          80,
          74.76381744519948,
          66.77158337341314,
          54.7682686997105,
          66.06720492951958,
          55.881187014559885,
          50.31633043535574,
          70.76478703058552,
          65.65305605338348,
          57.26487197239288,
          68.94948188962248,
          59.961101122118514,
          80,
          64.69427555630043,
          80,
          56.8719789916111,
          71.13349165403636,
          80,
          67.71090982215861,
          76.36447627051515,
          47.61668131825349,
          72.07134744320928,
          65.30386131464883,
          72.65001977384507,
          73.67665218013111,
          42.437498821895815,
          60.56397260393901,
          58.29976719400538,
          66.52164190005698,
          45.59466602830283,
          54.094913325183,
          75.01920703527668,
          66.76892446052369,
          54.11985458583353,
          62.46782632944532,
          75.98273057725845,
          46.60433214032019,
          62.88571386457741,
          62.70336756709189,
          66.86979414469047,
          70.03779466167884,
          80
         ],
         "y": [
          34.89936591348018,
          46.93384188068604,
          33.02625076238319,
          41.63792083524762,
          34.72629549126705,
          36.742203510431736,
          45.04110366845211,
          39.17100974468228,
          44.1318143000142,
          42.689194436117326,
          44.35016263119412,
          36.397813796081486,
          39.98855495745116,
          43.47503724096997,
          37.36535583649414,
          50.01468917446349,
          38.23696421747998,
          40.87837289185805,
          37.60017703235024,
          32.17023340336901,
          52.12431230232036,
          42.370040598109085,
          41.40317163936133,
          42.899101647693,
          51.24077445744421,
          39.563471994178144,
          48.03309424444962,
          42.76119002793232,
          42.14020725982629,
          48.20076464509779,
          50.54699859057052,
          43.27494199156224,
          42.23714012702591,
          40.47103432533121,
          52.06728731298284,
          43.904803084953976,
          37.764734620992776,
          54.28737681839901,
          40.613401823843,
          51.58287383822167,
          48.82330886297321,
          49.563994470916114,
          45.41838517329906,
          50.38159169149999,
          40.42557314000434,
          51.912902459787816,
          56.96334622669167,
          53.80129458191033,
          39.483540903839305,
          44.85743992681645,
          49.03385635959026,
          52.5989083604,
          49.81933745534345,
          48.071840176984864,
          53.69660232910588,
          56.71987170265332,
          49.913425274113614,
          54.89204535499472,
          38.52131015396425,
          46.89480183694381,
          50.1384068698659,
          49.46074303050908,
          53.7229105145146,
          57.27944414011457,
          54.892190216505256,
          49.39220921880327,
          45.030282607800814,
          55.56598341941408,
          43.72353153998485,
          56.30902725723131,
          52.227155859862975,
          47.41188438332093,
          54.845065510122815,
          53.50814474868326,
          53.44927809551131,
          53.31684784137234,
          55.93721377473802,
          58.55929128084016,
          56.51359523211649,
          59.180425711804254,
          53.9841177019021,
          62.37796025711584,
          57.21782693597471,
          51.71616601339834,
          49.033241920407136,
          55.595484796914654,
          48.09336036924491,
          49.81422136171999,
          55.927319489888006,
          51.73886436993114,
          50.153758783820855,
          54.68561155154135,
          55.25462033238505,
          53.89089217257913,
          53.05673802872267,
          59.23766822316103,
          56.69213900076128,
          53.87398045012209,
          67.31938725571356,
          55.96915868464207,
          60.657803256523394,
          52.18620599543679,
          48.16529750828709,
          51.00567200138146,
          53.60442370702855,
          52.43702125002523,
          61.57316174848007,
          54.2577811715028,
          57.12768437216117,
          54.54589582117647,
          52.56411242435417,
          54.871081266771306,
          63.19622533271158,
          50.72675781956018,
          58.33766945687692,
          49.30459990368332,
          52.0641456139784,
          54.30357966572888,
          55.83669174477608,
          61.53540290256178,
          53.78010603237455,
          49.71904313836798,
          57.08980309786117,
          51.91711527943053,
          54.82567241475172,
          52.9414130642895,
          43.69149469135474,
          55.83255525098194,
          56.08624130461981,
          57.6768646817422,
          61.91672905063605,
          46.80564394920226,
          55.22666028173055,
          54.549811560783326,
          50.2634351223242,
          54.19622258487216,
          54.55715420305215,
          45.81015498439623,
          52.9758153615381,
          46.99242723746438,
          48.15728138025867,
          42.37367194212528,
          48.708090682534205,
          49.8812595141611,
          53.46938512712637,
          50.54241174589289,
          42.64116006964618,
          54.47496212012167,
          49.37989785171384,
          52.22033789032898,
          54.41092192307142,
          56.49418233962387,
          58.98443096585594,
          48.61151992273041,
          50.320094834893794,
          43.161828936292906,
          53.648262400031975,
          42.19998008698087,
          38.87990718648348,
          51.83750120862832,
          44.85421670886864,
          51.12565253312948,
          49.05076150410088,
          38.63106980386602,
          32.95137165772789,
          40.83350432647775,
          46.16384336030428,
          39.73557506948796,
          42.34198847511347,
          38.070769929510256,
          45.97295133650246,
          45.33426090586133,
          42.22829179538604,
          51.37433154106894,
          51.63002973305985,
          46.71901296872925,
          34.64388992410531,
          37.86828454659628,
          45.175371344861965,
          39.743985828339504,
          40.19751519776231,
          46.87322774948732,
          44.67747853771774,
          48.43796112737158,
          39.46467371673005,
          48.2299012527001,
          38.32577071304873,
          48.33621230220287,
          41.11000743146651,
          36.02019272599529,
          31.908455536176,
          38.2989839845664,
          38.26703193731918,
          43.57848872577578,
          38.47942074421922,
          36.61269417715144,
          43.90288528374461,
          37.13684819971674,
          35.12357032085255,
          40.62221361129308,
          35.045084523231885,
          40.534035433592365,
          34.0020561141245,
          35.61935562920013,
          37.24351403438519,
          34.36151744040619,
          35.91552807578044,
          39.811972036985246,
          37.54071184206522,
          37.64697992133652,
          31.820816123130864,
          39.01943701260342,
          37.86197385008638,
          39.29675765730824,
          30.40502862483115,
          32.93852789984915,
          36.73429044361475,
          30.290251741345145,
          31.973396559398655,
          42.50476260629189,
          42.408375064903176,
          38.625286928314,
          36.8967684989161,
          26.888155878259678,
          34.33016678285983,
          29.7571561605468,
          26.04776626369725,
          28.586049134089727,
          31.502484325499,
          27.98315107956912,
          27.764451703655567,
          34.27998579367162,
          30.84450865514543,
          31.09839103479862,
          30.30057066011233,
          26.175840899188664,
          22.517740236229663,
          30.74281630879448,
          26.477405765169102,
          18.784529559000205,
          26.704763999084037,
          23.0390280037945,
          31.829293966934376,
          30.783550298743823,
          30.50277513089688,
          24.53953699358233,
          31.372534609289577,
          29.16669760805281,
          25.37653172953429,
          25.020198995914956,
          31.615275825853445,
          24.652370899733626,
          28.411175813465185,
          31.93906455972612,
          36.19629948126539,
          34.85321471917514,
          30.92621597267419,
          18.78482187258216,
          22.765468307130988,
          23.37069240472957,
          34.281410965208906,
          22.427749419026583,
          27.768019252978856,
          26.258567674415083,
          20.99986262998345,
          27.51012970320075,
          27.522267795618813,
          19.1859782054264,
          31.51761217676812,
          14.913372464066336,
          22.33917683002571,
          30.10421206272373,
          19.233841839254943,
          26.911616538254652,
          18.6430382601335,
          24.628680571236213,
          13.49831384792187,
          20.832123942559733,
          17.312609747150667,
          23.005069562834045,
          22.92884329323405,
          21.63223475671032,
          28.990121596089747,
          20.57060225298514,
          28.18582163941181,
          33.17359583271643,
          25.740303202648185,
          20.778828390905872,
          18.847108719149617,
          21.575914700913152,
          28.68350054419396,
          25.97808468146963,
          29.9283366746658,
          29.14461699121158,
          26.04997586773345,
          27.77066624983338,
          34.7410836612363,
          32.60906849550475,
          24.087279570582563,
          30.623895886850622,
          28.6834863872182,
          31.5191277551857,
          29.282421984066588,
          21.144824627167345,
          18.012705515228745,
          29.073845540246275,
          35.82746962228825,
          22.543781611929184,
          25.593400406738244,
          21.470847722503784,
          32.658427149190494,
          15.367059170616182,
          15.702089679372865,
          29.02683466058571,
          26.87516792265077,
          25.027689346364355,
          26.06297475976538,
          30.39971627226061,
          25.795725139127462,
          22.53368454803896,
          23.53860952217728,
          32.77773710537981,
          25.87640793568651,
          21.741212370073804,
          29.349332536649445,
          31.53756253469637,
          35.8347964944582,
          30.460116761641448,
          26.25580037999856,
          32.111248012015984,
          33.56697498658921,
          29.929449696210234,
          30.096781337928885,
          31.81911335688361,
          30.37064645978153,
          32.174728489682884,
          26.02151170491168,
          25.588436902631532,
          27.37218223837237,
          34.97841034237633,
          33.27839946248836,
          37.40503763891506,
          31.49212956860415,
          26.93136302435486,
          38.59850159541704,
          33.01017363051897,
          39.75160250976343,
          36.55635338827364,
          44.74391427737062,
          32.93799285719484,
          38.778281221446015,
          38.970982679305685,
          31.97965644375933,
          34.135556730692386,
          27.933438960079798,
          27.743722200451657,
          36.367456198438816,
          39.94782077605451,
          39.42226920920498,
          38.18275214774211,
          41.049237309807474,
          34.03815269454385,
          35.877360982696004,
          41.181833184537616,
          39.91476267207488,
          36.95383533300325
         ]
        }
       ],
       "layout": {
        "template": {
         "data": {
          "bar": [
           {
            "error_x": {
             "color": "#2a3f5f"
            },
            "error_y": {
             "color": "#2a3f5f"
            },
            "marker": {
             "line": {
              "color": "#E5ECF6",
              "width": 0.5
             },
             "pattern": {
              "fillmode": "overlay",
              "size": 10,
              "solidity": 0.2
             }
            },
            "type": "bar"
           }
          ],
          "barpolar": [
           {
            "marker": {
             "line": {
              "color": "#E5ECF6",
              "width": 0.5
             },
             "pattern": {
              "fillmode": "overlay",
              "size": 10,
              "solidity": 0.2
             }
            },
            "type": "barpolar"
           }
          ],
          "carpet": [
           {
            "aaxis": {
             "endlinecolor": "#2a3f5f",
             "gridcolor": "white",
             "linecolor": "white",
             "minorgridcolor": "white",
             "startlinecolor": "#2a3f5f"
            },
            "baxis": {
             "endlinecolor": "#2a3f5f",
             "gridcolor": "white",
             "linecolor": "white",
             "minorgridcolor": "white",
             "startlinecolor": "#2a3f5f"
            },
            "type": "carpet"
           }
          ],
          "choropleth": [
           {
            "colorbar": {
             "outlinewidth": 0,
             "ticks": ""
            },
            "type": "choropleth"
           }
          ],
          "contour": [
           {
            "colorbar": {
             "outlinewidth": 0,
             "ticks": ""
            },
            "colorscale": [
             [
              0,
              "#0d0887"
             ],
             [
              0.1111111111111111,
              "#46039f"
             ],
             [
              0.2222222222222222,
              "#7201a8"
             ],
             [
              0.3333333333333333,
              "#9c179e"
             ],
             [
              0.4444444444444444,
              "#bd3786"
             ],
             [
              0.5555555555555556,
              "#d8576b"
             ],
             [
              0.6666666666666666,
              "#ed7953"
             ],
             [
              0.7777777777777778,
              "#fb9f3a"
             ],
             [
              0.8888888888888888,
              "#fdca26"
             ],
             [
              1,
              "#f0f921"
             ]
            ],
            "type": "contour"
           }
          ],
          "contourcarpet": [
           {
            "colorbar": {
             "outlinewidth": 0,
             "ticks": ""
            },
            "type": "contourcarpet"
           }
          ],
          "heatmap": [
           {
            "colorbar": {
             "outlinewidth": 0,
             "ticks": ""
            },
            "colorscale": [
             [
              0,
              "#0d0887"
             ],
             [
              0.1111111111111111,
              "#46039f"
             ],
             [
              0.2222222222222222,
              "#7201a8"
             ],
             [
              0.3333333333333333,
              "#9c179e"
             ],
             [
              0.4444444444444444,
              "#bd3786"
             ],
             [
              0.5555555555555556,
              "#d8576b"
             ],
             [
              0.6666666666666666,
              "#ed7953"
             ],
             [
              0.7777777777777778,
              "#fb9f3a"
             ],
             [
              0.8888888888888888,
              "#fdca26"
             ],
             [
              1,
              "#f0f921"
             ]
            ],
            "type": "heatmap"
           }
          ],
          "heatmapgl": [
           {
            "colorbar": {
             "outlinewidth": 0,
             "ticks": ""
            },
            "colorscale": [
             [
              0,
              "#0d0887"
             ],
             [
              0.1111111111111111,
              "#46039f"
             ],
             [
              0.2222222222222222,
              "#7201a8"
             ],
             [
              0.3333333333333333,
              "#9c179e"
             ],
             [
              0.4444444444444444,
              "#bd3786"
             ],
             [
              0.5555555555555556,
              "#d8576b"
             ],
             [
              0.6666666666666666,
              "#ed7953"
             ],
             [
              0.7777777777777778,
              "#fb9f3a"
             ],
             [
              0.8888888888888888,
              "#fdca26"
             ],
             [
              1,
              "#f0f921"
             ]
            ],
            "type": "heatmapgl"
           }
          ],
          "histogram": [
           {
            "marker": {
             "pattern": {
              "fillmode": "overlay",
              "size": 10,
              "solidity": 0.2
             }
            },
            "type": "histogram"
           }
          ],
          "histogram2d": [
           {
            "colorbar": {
             "outlinewidth": 0,
             "ticks": ""
            },
            "colorscale": [
             [
              0,
              "#0d0887"
             ],
             [
              0.1111111111111111,
              "#46039f"
             ],
             [
              0.2222222222222222,
              "#7201a8"
             ],
             [
              0.3333333333333333,
              "#9c179e"
             ],
             [
              0.4444444444444444,
              "#bd3786"
             ],
             [
              0.5555555555555556,
              "#d8576b"
             ],
             [
              0.6666666666666666,
              "#ed7953"
             ],
             [
              0.7777777777777778,
              "#fb9f3a"
             ],
             [
              0.8888888888888888,
              "#fdca26"
             ],
             [
              1,
              "#f0f921"
             ]
            ],
            "type": "histogram2d"
           }
          ],
          "histogram2dcontour": [
           {
            "colorbar": {
             "outlinewidth": 0,
             "ticks": ""
            },
            "colorscale": [
             [
              0,
              "#0d0887"
             ],
             [
              0.1111111111111111,
              "#46039f"
             ],
             [
              0.2222222222222222,
              "#7201a8"
             ],
             [
              0.3333333333333333,
              "#9c179e"
             ],
             [
              0.4444444444444444,
              "#bd3786"
             ],
             [
              0.5555555555555556,
              "#d8576b"
             ],
             [
              0.6666666666666666,
              "#ed7953"
             ],
             [
              0.7777777777777778,
              "#fb9f3a"
             ],
             [
              0.8888888888888888,
              "#fdca26"
             ],
             [
              1,
              "#f0f921"
             ]
            ],
            "type": "histogram2dcontour"
           }
          ],
          "mesh3d": [
           {
            "colorbar": {
             "outlinewidth": 0,
             "ticks": ""
            },
            "type": "mesh3d"
           }
          ],
          "parcoords": [
           {
            "line": {
             "colorbar": {
              "outlinewidth": 0,
              "ticks": ""
             }
            },
            "type": "parcoords"
           }
          ],
          "pie": [
           {
            "automargin": true,
            "type": "pie"
           }
          ],
          "scatter": [
           {
            "fillpattern": {
             "fillmode": "overlay",
             "size": 10,
             "solidity": 0.2
            },
            "type": "scatter"
           }
          ],
          "scatter3d": [
           {
            "line": {
             "colorbar": {
              "outlinewidth": 0,
              "ticks": ""
             }
            },
            "marker": {
             "colorbar": {
              "outlinewidth": 0,
              "ticks": ""
             }
            },
            "type": "scatter3d"
           }
          ],
          "scattercarpet": [
           {
            "marker": {
             "colorbar": {
              "outlinewidth": 0,
              "ticks": ""
             }
            },
            "type": "scattercarpet"
           }
          ],
          "scattergeo": [
           {
            "marker": {
             "colorbar": {
              "outlinewidth": 0,
              "ticks": ""
             }
            },
            "type": "scattergeo"
           }
          ],
          "scattergl": [
           {
            "marker": {
             "colorbar": {
              "outlinewidth": 0,
              "ticks": ""
             }
            },
            "type": "scattergl"
           }
          ],
          "scattermapbox": [
           {
            "marker": {
             "colorbar": {
              "outlinewidth": 0,
              "ticks": ""
             }
            },
            "type": "scattermapbox"
           }
          ],
          "scatterpolar": [
           {
            "marker": {
             "colorbar": {
              "outlinewidth": 0,
              "ticks": ""
             }
            },
            "type": "scatterpolar"
           }
          ],
          "scatterpolargl": [
           {
            "marker": {
             "colorbar": {
              "outlinewidth": 0,
              "ticks": ""
             }
            },
            "type": "scatterpolargl"
           }
          ],
          "scatterternary": [
           {
            "marker": {
             "colorbar": {
              "outlinewidth": 0,
              "ticks": ""
             }
            },
            "type": "scatterternary"
           }
          ],
          "surface": [
           {
            "colorbar": {
             "outlinewidth": 0,
             "ticks": ""
            },
            "colorscale": [
             [
              0,
              "#0d0887"
             ],
             [
              0.1111111111111111,
              "#46039f"
             ],
             [
              0.2222222222222222,
              "#7201a8"
             ],
             [
              0.3333333333333333,
              "#9c179e"
             ],
             [
              0.4444444444444444,
              "#bd3786"
             ],
             [
              0.5555555555555556,
              "#d8576b"
             ],
             [
              0.6666666666666666,
              "#ed7953"
             ],
             [
              0.7777777777777778,
              "#fb9f3a"
             ],
             [
              0.8888888888888888,
              "#fdca26"
             ],
             [
              1,
              "#f0f921"
             ]
            ],
            "type": "surface"
           }
          ],
          "table": [
           {
            "cells": {
             "fill": {
              "color": "#EBF0F8"
             },
             "line": {
              "color": "white"
             }
            },
            "header": {
             "fill": {
              "color": "#C8D4E3"
             },
             "line": {
              "color": "white"
             }
            },
            "type": "table"
           }
          ]
         },
         "layout": {
          "annotationdefaults": {
           "arrowcolor": "#2a3f5f",
           "arrowhead": 0,
           "arrowwidth": 1
          },
          "autotypenumbers": "strict",
          "coloraxis": {
           "colorbar": {
            "outlinewidth": 0,
            "ticks": ""
           }
          },
          "colorscale": {
           "diverging": [
            [
             0,
             "#8e0152"
            ],
            [
             0.1,
             "#c51b7d"
            ],
            [
             0.2,
             "#de77ae"
            ],
            [
             0.3,
             "#f1b6da"
            ],
            [
             0.4,
             "#fde0ef"
            ],
            [
             0.5,
             "#f7f7f7"
            ],
            [
             0.6,
             "#e6f5d0"
            ],
            [
             0.7,
             "#b8e186"
            ],
            [
             0.8,
             "#7fbc41"
            ],
            [
             0.9,
             "#4d9221"
            ],
            [
             1,
             "#276419"
            ]
           ],
           "sequential": [
            [
             0,
             "#0d0887"
            ],
            [
             0.1111111111111111,
             "#46039f"
            ],
            [
             0.2222222222222222,
             "#7201a8"
            ],
            [
             0.3333333333333333,
             "#9c179e"
            ],
            [
             0.4444444444444444,
             "#bd3786"
            ],
            [
             0.5555555555555556,
             "#d8576b"
            ],
            [
             0.6666666666666666,
             "#ed7953"
            ],
            [
             0.7777777777777778,
             "#fb9f3a"
            ],
            [
             0.8888888888888888,
             "#fdca26"
            ],
            [
             1,
             "#f0f921"
            ]
           ],
           "sequentialminus": [
            [
             0,
             "#0d0887"
            ],
            [
             0.1111111111111111,
             "#46039f"
            ],
            [
             0.2222222222222222,
             "#7201a8"
            ],
            [
             0.3333333333333333,
             "#9c179e"
            ],
            [
             0.4444444444444444,
             "#bd3786"
            ],
            [
             0.5555555555555556,
             "#d8576b"
            ],
            [
             0.6666666666666666,
             "#ed7953"
            ],
            [
             0.7777777777777778,
             "#fb9f3a"
            ],
            [
             0.8888888888888888,
             "#fdca26"
            ],
            [
             1,
             "#f0f921"
            ]
           ]
          },
          "colorway": [
           "#636efa",
           "#EF553B",
           "#00cc96",
           "#ab63fa",
           "#FFA15A",
           "#19d3f3",
           "#FF6692",
           "#B6E880",
           "#FF97FF",
           "#FECB52"
          ],
          "font": {
           "color": "#2a3f5f"
          },
          "geo": {
           "bgcolor": "white",
           "lakecolor": "white",
           "landcolor": "#E5ECF6",
           "showlakes": true,
           "showland": true,
           "subunitcolor": "white"
          },
          "hoverlabel": {
           "align": "left"
          },
          "hovermode": "closest",
          "mapbox": {
           "style": "light"
          },
          "paper_bgcolor": "white",
          "plot_bgcolor": "#E5ECF6",
          "polar": {
           "angularaxis": {
            "gridcolor": "white",
            "linecolor": "white",
            "ticks": ""
           },
           "bgcolor": "#E5ECF6",
           "radialaxis": {
            "gridcolor": "white",
            "linecolor": "white",
            "ticks": ""
           }
          },
          "scene": {
           "xaxis": {
            "backgroundcolor": "#E5ECF6",
            "gridcolor": "white",
            "gridwidth": 2,
            "linecolor": "white",
            "showbackground": true,
            "ticks": "",
            "zerolinecolor": "white"
           },
           "yaxis": {
            "backgroundcolor": "#E5ECF6",
            "gridcolor": "white",
            "gridwidth": 2,
            "linecolor": "white",
            "showbackground": true,
            "ticks": "",
            "zerolinecolor": "white"
           },
           "zaxis": {
            "backgroundcolor": "#E5ECF6",
            "gridcolor": "white",
            "gridwidth": 2,
            "linecolor": "white",
            "showbackground": true,
            "ticks": "",
            "zerolinecolor": "white"
           }
          },
          "shapedefaults": {
           "line": {
            "color": "#2a3f5f"
           }
          },
          "ternary": {
           "aaxis": {
            "gridcolor": "white",
            "linecolor": "white",
            "ticks": ""
           },
           "baxis": {
            "gridcolor": "white",
            "linecolor": "white",
            "ticks": ""
           },
           "bgcolor": "#E5ECF6",
           "caxis": {
            "gridcolor": "white",
            "linecolor": "white",
            "ticks": ""
           }
          },
          "title": {
           "x": 0.05
          },
          "xaxis": {
           "automargin": true,
           "gridcolor": "white",
           "linecolor": "white",
           "ticks": "",
           "title": {
            "standoff": 15
           },
           "zerolinecolor": "white",
           "zerolinewidth": 2
          },
          "yaxis": {
           "automargin": true,
           "gridcolor": "white",
           "linecolor": "white",
           "ticks": "",
           "title": {
            "standoff": 15
           },
           "zerolinecolor": "white",
           "zerolinewidth": 2
          }
         }
        },
        "title": {
         "text": "Relación entre precipitación y humedad en Valencia"
        },
        "xaxis": {
         "title": {
          "text": "Humedad"
         }
        },
        "yaxis": {
         "title": {
          "text": "Precipitación"
         }
        }
       }
      }
     },
     "metadata": {},
     "output_type": "display_data"
    }
   ],
   "source": [
    "\n",
    "import numpy as np\n",
    "import pandas as pd\n",
    "import plotly.graph_objects as go\n",
    "\n",
    "\n",
    "clima_df = pd.read_csv(\"datos_climaticos.csv\")\n",
    "clima_valencia_df = clima_df[clima_df[\"Ciudad\"] == \"Valencia\"]\n",
    "fechas = clima_valencia_df[\"Fecha\"].to_numpy()\n",
    "fig = go.Figure()\n",
    "\n",
    "#Utilizar una gráfica de dispersión para analizar la relación entre la precipitación y la humedad en una ciudad Valencia.\n",
    "\n",
    "fig.add_trace(\n",
    "      go.Scatter(\n",
    "          y = clima_valencia_df[\"Precipitación\"],\n",
    "          x = clima_valencia_df[\"Humedad\"],\n",
    "          mode = \"markers\",\n",
    "          name = 'Lineas'\n",
    "      ))\n",
    "\n",
    "fig.update_layout(\n",
    "    title = \"Relación entre precipitación y humedad en Valencia\",\n",
    "    yaxis_title = \"Precipitación\",\n",
    "    xaxis_title = \"Humedad\"\n",
    ")\n",
    "\n",
    "fig.show()\n",
    "\n",
    "\n",
    "\n"
   ]
  },
  {
   "cell_type": "code",
   "execution_count": 6,
   "metadata": {},
   "outputs": [
    {
     "data": {
      "application/vnd.plotly.v1+json": {
       "config": {
        "plotlyServerURL": "https://plot.ly"
       },
       "data": [
        {
         "name": "Lineas",
         "type": "histogram",
         "x": [
          34.89936591348018,
          46.93384188068604,
          33.02625076238319,
          41.63792083524762,
          34.72629549126705,
          36.742203510431736,
          45.04110366845211,
          39.17100974468228,
          44.1318143000142,
          42.689194436117326,
          44.35016263119412,
          36.397813796081486,
          39.98855495745116,
          43.47503724096997,
          37.36535583649414,
          50.01468917446349,
          38.23696421747998,
          40.87837289185805,
          37.60017703235024,
          32.17023340336901,
          52.12431230232036,
          42.370040598109085,
          41.40317163936133,
          42.899101647693,
          51.24077445744421,
          39.563471994178144,
          48.03309424444962,
          42.76119002793232,
          42.14020725982629,
          48.20076464509779,
          50.54699859057052,
          43.27494199156224,
          42.23714012702591,
          40.47103432533121,
          52.06728731298284,
          43.904803084953976,
          37.764734620992776,
          54.28737681839901,
          40.613401823843,
          51.58287383822167,
          48.82330886297321,
          49.563994470916114,
          45.41838517329906,
          50.38159169149999,
          40.42557314000434,
          51.912902459787816,
          56.96334622669167,
          53.80129458191033,
          39.483540903839305,
          44.85743992681645,
          49.03385635959026,
          52.5989083604,
          49.81933745534345,
          48.071840176984864,
          53.69660232910588,
          56.71987170265332,
          49.913425274113614,
          54.89204535499472,
          38.52131015396425,
          46.89480183694381,
          50.1384068698659,
          49.46074303050908,
          53.7229105145146,
          57.27944414011457,
          54.892190216505256,
          49.39220921880327,
          45.030282607800814,
          55.56598341941408,
          43.72353153998485,
          56.30902725723131,
          52.227155859862975,
          47.41188438332093,
          54.845065510122815,
          53.50814474868326,
          53.44927809551131,
          53.31684784137234,
          55.93721377473802,
          58.55929128084016,
          56.51359523211649,
          59.180425711804254,
          53.9841177019021,
          62.37796025711584,
          57.21782693597471,
          51.71616601339834,
          49.033241920407136,
          55.595484796914654,
          48.09336036924491,
          49.81422136171999,
          55.927319489888006,
          51.73886436993114,
          50.153758783820855,
          54.68561155154135,
          55.25462033238505,
          53.89089217257913,
          53.05673802872267,
          59.23766822316103,
          56.69213900076128,
          53.87398045012209,
          67.31938725571356,
          55.96915868464207,
          60.657803256523394,
          52.18620599543679,
          48.16529750828709,
          51.00567200138146,
          53.60442370702855,
          52.43702125002523,
          61.57316174848007,
          54.2577811715028,
          57.12768437216117,
          54.54589582117647,
          52.56411242435417,
          54.871081266771306,
          63.19622533271158,
          50.72675781956018,
          58.33766945687692,
          49.30459990368332,
          52.0641456139784,
          54.30357966572888,
          55.83669174477608,
          61.53540290256178,
          53.78010603237455,
          49.71904313836798,
          57.08980309786117,
          51.91711527943053,
          54.82567241475172,
          52.9414130642895,
          43.69149469135474,
          55.83255525098194,
          56.08624130461981,
          57.6768646817422,
          61.91672905063605,
          46.80564394920226,
          55.22666028173055,
          54.549811560783326,
          50.2634351223242,
          54.19622258487216,
          54.55715420305215,
          45.81015498439623,
          52.9758153615381,
          46.99242723746438,
          48.15728138025867,
          42.37367194212528,
          48.708090682534205,
          49.8812595141611,
          53.46938512712637,
          50.54241174589289,
          42.64116006964618,
          54.47496212012167,
          49.37989785171384,
          52.22033789032898,
          54.41092192307142,
          56.49418233962387,
          58.98443096585594,
          48.61151992273041,
          50.320094834893794,
          43.161828936292906,
          53.648262400031975,
          42.19998008698087,
          38.87990718648348,
          51.83750120862832,
          44.85421670886864,
          51.12565253312948,
          49.05076150410088,
          38.63106980386602,
          32.95137165772789,
          40.83350432647775,
          46.16384336030428,
          39.73557506948796,
          42.34198847511347,
          38.070769929510256,
          45.97295133650246,
          45.33426090586133,
          42.22829179538604,
          51.37433154106894,
          51.63002973305985,
          46.71901296872925,
          34.64388992410531,
          37.86828454659628,
          45.175371344861965,
          39.743985828339504,
          40.19751519776231,
          46.87322774948732,
          44.67747853771774,
          48.43796112737158,
          39.46467371673005,
          48.2299012527001,
          38.32577071304873,
          48.33621230220287,
          41.11000743146651,
          36.02019272599529,
          31.908455536176,
          38.2989839845664,
          38.26703193731918,
          43.57848872577578,
          38.47942074421922,
          36.61269417715144,
          43.90288528374461,
          37.13684819971674,
          35.12357032085255,
          40.62221361129308,
          35.045084523231885,
          40.534035433592365,
          34.0020561141245,
          35.61935562920013,
          37.24351403438519,
          34.36151744040619,
          35.91552807578044,
          39.811972036985246,
          37.54071184206522,
          37.64697992133652,
          31.820816123130864,
          39.01943701260342,
          37.86197385008638,
          39.29675765730824,
          30.40502862483115,
          32.93852789984915,
          36.73429044361475,
          30.290251741345145,
          31.973396559398655,
          42.50476260629189,
          42.408375064903176,
          38.625286928314,
          36.8967684989161,
          26.888155878259678,
          34.33016678285983,
          29.7571561605468,
          26.04776626369725,
          28.586049134089727,
          31.502484325499,
          27.98315107956912,
          27.764451703655567,
          34.27998579367162,
          30.84450865514543,
          31.09839103479862,
          30.30057066011233,
          26.175840899188664,
          22.517740236229663,
          30.74281630879448,
          26.477405765169102,
          18.784529559000205,
          26.704763999084037,
          23.0390280037945,
          31.829293966934376,
          30.783550298743823,
          30.50277513089688,
          24.53953699358233,
          31.372534609289577,
          29.16669760805281,
          25.37653172953429,
          25.020198995914956,
          31.615275825853445,
          24.652370899733626,
          28.411175813465185,
          31.93906455972612,
          36.19629948126539,
          34.85321471917514,
          30.92621597267419,
          18.78482187258216,
          22.765468307130988,
          23.37069240472957,
          34.281410965208906,
          22.427749419026583,
          27.768019252978856,
          26.258567674415083,
          20.99986262998345,
          27.51012970320075,
          27.522267795618813,
          19.1859782054264,
          31.51761217676812,
          14.913372464066336,
          22.33917683002571,
          30.10421206272373,
          19.233841839254943,
          26.911616538254652,
          18.6430382601335,
          24.628680571236213,
          13.49831384792187,
          20.832123942559733,
          17.312609747150667,
          23.005069562834045,
          22.92884329323405,
          21.63223475671032,
          28.990121596089747,
          20.57060225298514,
          28.18582163941181,
          33.17359583271643,
          25.740303202648185,
          20.778828390905872,
          18.847108719149617,
          21.575914700913152,
          28.68350054419396,
          25.97808468146963,
          29.9283366746658,
          29.14461699121158,
          26.04997586773345,
          27.77066624983338,
          34.7410836612363,
          32.60906849550475,
          24.087279570582563,
          30.623895886850622,
          28.6834863872182,
          31.5191277551857,
          29.282421984066588,
          21.144824627167345,
          18.012705515228745,
          29.073845540246275,
          35.82746962228825,
          22.543781611929184,
          25.593400406738244,
          21.470847722503784,
          32.658427149190494,
          15.367059170616182,
          15.702089679372865,
          29.02683466058571,
          26.87516792265077,
          25.027689346364355,
          26.06297475976538,
          30.39971627226061,
          25.795725139127462,
          22.53368454803896,
          23.53860952217728,
          32.77773710537981,
          25.87640793568651,
          21.741212370073804,
          29.349332536649445,
          31.53756253469637,
          35.8347964944582,
          30.460116761641448,
          26.25580037999856,
          32.111248012015984,
          33.56697498658921,
          29.929449696210234,
          30.096781337928885,
          31.81911335688361,
          30.37064645978153,
          32.174728489682884,
          26.02151170491168,
          25.588436902631532,
          27.37218223837237,
          34.97841034237633,
          33.27839946248836,
          37.40503763891506,
          31.49212956860415,
          26.93136302435486,
          38.59850159541704,
          33.01017363051897,
          39.75160250976343,
          36.55635338827364,
          44.74391427737062,
          32.93799285719484,
          38.778281221446015,
          38.970982679305685,
          31.97965644375933,
          34.135556730692386,
          27.933438960079798,
          27.743722200451657,
          36.367456198438816,
          39.94782077605451,
          39.42226920920498,
          38.18275214774211,
          41.049237309807474,
          34.03815269454385,
          35.877360982696004,
          41.181833184537616,
          39.91476267207488,
          36.95383533300325
         ]
        }
       ],
       "layout": {
        "template": {
         "data": {
          "bar": [
           {
            "error_x": {
             "color": "#2a3f5f"
            },
            "error_y": {
             "color": "#2a3f5f"
            },
            "marker": {
             "line": {
              "color": "#E5ECF6",
              "width": 0.5
             },
             "pattern": {
              "fillmode": "overlay",
              "size": 10,
              "solidity": 0.2
             }
            },
            "type": "bar"
           }
          ],
          "barpolar": [
           {
            "marker": {
             "line": {
              "color": "#E5ECF6",
              "width": 0.5
             },
             "pattern": {
              "fillmode": "overlay",
              "size": 10,
              "solidity": 0.2
             }
            },
            "type": "barpolar"
           }
          ],
          "carpet": [
           {
            "aaxis": {
             "endlinecolor": "#2a3f5f",
             "gridcolor": "white",
             "linecolor": "white",
             "minorgridcolor": "white",
             "startlinecolor": "#2a3f5f"
            },
            "baxis": {
             "endlinecolor": "#2a3f5f",
             "gridcolor": "white",
             "linecolor": "white",
             "minorgridcolor": "white",
             "startlinecolor": "#2a3f5f"
            },
            "type": "carpet"
           }
          ],
          "choropleth": [
           {
            "colorbar": {
             "outlinewidth": 0,
             "ticks": ""
            },
            "type": "choropleth"
           }
          ],
          "contour": [
           {
            "colorbar": {
             "outlinewidth": 0,
             "ticks": ""
            },
            "colorscale": [
             [
              0,
              "#0d0887"
             ],
             [
              0.1111111111111111,
              "#46039f"
             ],
             [
              0.2222222222222222,
              "#7201a8"
             ],
             [
              0.3333333333333333,
              "#9c179e"
             ],
             [
              0.4444444444444444,
              "#bd3786"
             ],
             [
              0.5555555555555556,
              "#d8576b"
             ],
             [
              0.6666666666666666,
              "#ed7953"
             ],
             [
              0.7777777777777778,
              "#fb9f3a"
             ],
             [
              0.8888888888888888,
              "#fdca26"
             ],
             [
              1,
              "#f0f921"
             ]
            ],
            "type": "contour"
           }
          ],
          "contourcarpet": [
           {
            "colorbar": {
             "outlinewidth": 0,
             "ticks": ""
            },
            "type": "contourcarpet"
           }
          ],
          "heatmap": [
           {
            "colorbar": {
             "outlinewidth": 0,
             "ticks": ""
            },
            "colorscale": [
             [
              0,
              "#0d0887"
             ],
             [
              0.1111111111111111,
              "#46039f"
             ],
             [
              0.2222222222222222,
              "#7201a8"
             ],
             [
              0.3333333333333333,
              "#9c179e"
             ],
             [
              0.4444444444444444,
              "#bd3786"
             ],
             [
              0.5555555555555556,
              "#d8576b"
             ],
             [
              0.6666666666666666,
              "#ed7953"
             ],
             [
              0.7777777777777778,
              "#fb9f3a"
             ],
             [
              0.8888888888888888,
              "#fdca26"
             ],
             [
              1,
              "#f0f921"
             ]
            ],
            "type": "heatmap"
           }
          ],
          "heatmapgl": [
           {
            "colorbar": {
             "outlinewidth": 0,
             "ticks": ""
            },
            "colorscale": [
             [
              0,
              "#0d0887"
             ],
             [
              0.1111111111111111,
              "#46039f"
             ],
             [
              0.2222222222222222,
              "#7201a8"
             ],
             [
              0.3333333333333333,
              "#9c179e"
             ],
             [
              0.4444444444444444,
              "#bd3786"
             ],
             [
              0.5555555555555556,
              "#d8576b"
             ],
             [
              0.6666666666666666,
              "#ed7953"
             ],
             [
              0.7777777777777778,
              "#fb9f3a"
             ],
             [
              0.8888888888888888,
              "#fdca26"
             ],
             [
              1,
              "#f0f921"
             ]
            ],
            "type": "heatmapgl"
           }
          ],
          "histogram": [
           {
            "marker": {
             "pattern": {
              "fillmode": "overlay",
              "size": 10,
              "solidity": 0.2
             }
            },
            "type": "histogram"
           }
          ],
          "histogram2d": [
           {
            "colorbar": {
             "outlinewidth": 0,
             "ticks": ""
            },
            "colorscale": [
             [
              0,
              "#0d0887"
             ],
             [
              0.1111111111111111,
              "#46039f"
             ],
             [
              0.2222222222222222,
              "#7201a8"
             ],
             [
              0.3333333333333333,
              "#9c179e"
             ],
             [
              0.4444444444444444,
              "#bd3786"
             ],
             [
              0.5555555555555556,
              "#d8576b"
             ],
             [
              0.6666666666666666,
              "#ed7953"
             ],
             [
              0.7777777777777778,
              "#fb9f3a"
             ],
             [
              0.8888888888888888,
              "#fdca26"
             ],
             [
              1,
              "#f0f921"
             ]
            ],
            "type": "histogram2d"
           }
          ],
          "histogram2dcontour": [
           {
            "colorbar": {
             "outlinewidth": 0,
             "ticks": ""
            },
            "colorscale": [
             [
              0,
              "#0d0887"
             ],
             [
              0.1111111111111111,
              "#46039f"
             ],
             [
              0.2222222222222222,
              "#7201a8"
             ],
             [
              0.3333333333333333,
              "#9c179e"
             ],
             [
              0.4444444444444444,
              "#bd3786"
             ],
             [
              0.5555555555555556,
              "#d8576b"
             ],
             [
              0.6666666666666666,
              "#ed7953"
             ],
             [
              0.7777777777777778,
              "#fb9f3a"
             ],
             [
              0.8888888888888888,
              "#fdca26"
             ],
             [
              1,
              "#f0f921"
             ]
            ],
            "type": "histogram2dcontour"
           }
          ],
          "mesh3d": [
           {
            "colorbar": {
             "outlinewidth": 0,
             "ticks": ""
            },
            "type": "mesh3d"
           }
          ],
          "parcoords": [
           {
            "line": {
             "colorbar": {
              "outlinewidth": 0,
              "ticks": ""
             }
            },
            "type": "parcoords"
           }
          ],
          "pie": [
           {
            "automargin": true,
            "type": "pie"
           }
          ],
          "scatter": [
           {
            "fillpattern": {
             "fillmode": "overlay",
             "size": 10,
             "solidity": 0.2
            },
            "type": "scatter"
           }
          ],
          "scatter3d": [
           {
            "line": {
             "colorbar": {
              "outlinewidth": 0,
              "ticks": ""
             }
            },
            "marker": {
             "colorbar": {
              "outlinewidth": 0,
              "ticks": ""
             }
            },
            "type": "scatter3d"
           }
          ],
          "scattercarpet": [
           {
            "marker": {
             "colorbar": {
              "outlinewidth": 0,
              "ticks": ""
             }
            },
            "type": "scattercarpet"
           }
          ],
          "scattergeo": [
           {
            "marker": {
             "colorbar": {
              "outlinewidth": 0,
              "ticks": ""
             }
            },
            "type": "scattergeo"
           }
          ],
          "scattergl": [
           {
            "marker": {
             "colorbar": {
              "outlinewidth": 0,
              "ticks": ""
             }
            },
            "type": "scattergl"
           }
          ],
          "scattermapbox": [
           {
            "marker": {
             "colorbar": {
              "outlinewidth": 0,
              "ticks": ""
             }
            },
            "type": "scattermapbox"
           }
          ],
          "scatterpolar": [
           {
            "marker": {
             "colorbar": {
              "outlinewidth": 0,
              "ticks": ""
             }
            },
            "type": "scatterpolar"
           }
          ],
          "scatterpolargl": [
           {
            "marker": {
             "colorbar": {
              "outlinewidth": 0,
              "ticks": ""
             }
            },
            "type": "scatterpolargl"
           }
          ],
          "scatterternary": [
           {
            "marker": {
             "colorbar": {
              "outlinewidth": 0,
              "ticks": ""
             }
            },
            "type": "scatterternary"
           }
          ],
          "surface": [
           {
            "colorbar": {
             "outlinewidth": 0,
             "ticks": ""
            },
            "colorscale": [
             [
              0,
              "#0d0887"
             ],
             [
              0.1111111111111111,
              "#46039f"
             ],
             [
              0.2222222222222222,
              "#7201a8"
             ],
             [
              0.3333333333333333,
              "#9c179e"
             ],
             [
              0.4444444444444444,
              "#bd3786"
             ],
             [
              0.5555555555555556,
              "#d8576b"
             ],
             [
              0.6666666666666666,
              "#ed7953"
             ],
             [
              0.7777777777777778,
              "#fb9f3a"
             ],
             [
              0.8888888888888888,
              "#fdca26"
             ],
             [
              1,
              "#f0f921"
             ]
            ],
            "type": "surface"
           }
          ],
          "table": [
           {
            "cells": {
             "fill": {
              "color": "#EBF0F8"
             },
             "line": {
              "color": "white"
             }
            },
            "header": {
             "fill": {
              "color": "#C8D4E3"
             },
             "line": {
              "color": "white"
             }
            },
            "type": "table"
           }
          ]
         },
         "layout": {
          "annotationdefaults": {
           "arrowcolor": "#2a3f5f",
           "arrowhead": 0,
           "arrowwidth": 1
          },
          "autotypenumbers": "strict",
          "coloraxis": {
           "colorbar": {
            "outlinewidth": 0,
            "ticks": ""
           }
          },
          "colorscale": {
           "diverging": [
            [
             0,
             "#8e0152"
            ],
            [
             0.1,
             "#c51b7d"
            ],
            [
             0.2,
             "#de77ae"
            ],
            [
             0.3,
             "#f1b6da"
            ],
            [
             0.4,
             "#fde0ef"
            ],
            [
             0.5,
             "#f7f7f7"
            ],
            [
             0.6,
             "#e6f5d0"
            ],
            [
             0.7,
             "#b8e186"
            ],
            [
             0.8,
             "#7fbc41"
            ],
            [
             0.9,
             "#4d9221"
            ],
            [
             1,
             "#276419"
            ]
           ],
           "sequential": [
            [
             0,
             "#0d0887"
            ],
            [
             0.1111111111111111,
             "#46039f"
            ],
            [
             0.2222222222222222,
             "#7201a8"
            ],
            [
             0.3333333333333333,
             "#9c179e"
            ],
            [
             0.4444444444444444,
             "#bd3786"
            ],
            [
             0.5555555555555556,
             "#d8576b"
            ],
            [
             0.6666666666666666,
             "#ed7953"
            ],
            [
             0.7777777777777778,
             "#fb9f3a"
            ],
            [
             0.8888888888888888,
             "#fdca26"
            ],
            [
             1,
             "#f0f921"
            ]
           ],
           "sequentialminus": [
            [
             0,
             "#0d0887"
            ],
            [
             0.1111111111111111,
             "#46039f"
            ],
            [
             0.2222222222222222,
             "#7201a8"
            ],
            [
             0.3333333333333333,
             "#9c179e"
            ],
            [
             0.4444444444444444,
             "#bd3786"
            ],
            [
             0.5555555555555556,
             "#d8576b"
            ],
            [
             0.6666666666666666,
             "#ed7953"
            ],
            [
             0.7777777777777778,
             "#fb9f3a"
            ],
            [
             0.8888888888888888,
             "#fdca26"
            ],
            [
             1,
             "#f0f921"
            ]
           ]
          },
          "colorway": [
           "#636efa",
           "#EF553B",
           "#00cc96",
           "#ab63fa",
           "#FFA15A",
           "#19d3f3",
           "#FF6692",
           "#B6E880",
           "#FF97FF",
           "#FECB52"
          ],
          "font": {
           "color": "#2a3f5f"
          },
          "geo": {
           "bgcolor": "white",
           "lakecolor": "white",
           "landcolor": "#E5ECF6",
           "showlakes": true,
           "showland": true,
           "subunitcolor": "white"
          },
          "hoverlabel": {
           "align": "left"
          },
          "hovermode": "closest",
          "mapbox": {
           "style": "light"
          },
          "paper_bgcolor": "white",
          "plot_bgcolor": "#E5ECF6",
          "polar": {
           "angularaxis": {
            "gridcolor": "white",
            "linecolor": "white",
            "ticks": ""
           },
           "bgcolor": "#E5ECF6",
           "radialaxis": {
            "gridcolor": "white",
            "linecolor": "white",
            "ticks": ""
           }
          },
          "scene": {
           "xaxis": {
            "backgroundcolor": "#E5ECF6",
            "gridcolor": "white",
            "gridwidth": 2,
            "linecolor": "white",
            "showbackground": true,
            "ticks": "",
            "zerolinecolor": "white"
           },
           "yaxis": {
            "backgroundcolor": "#E5ECF6",
            "gridcolor": "white",
            "gridwidth": 2,
            "linecolor": "white",
            "showbackground": true,
            "ticks": "",
            "zerolinecolor": "white"
           },
           "zaxis": {
            "backgroundcolor": "#E5ECF6",
            "gridcolor": "white",
            "gridwidth": 2,
            "linecolor": "white",
            "showbackground": true,
            "ticks": "",
            "zerolinecolor": "white"
           }
          },
          "shapedefaults": {
           "line": {
            "color": "#2a3f5f"
           }
          },
          "ternary": {
           "aaxis": {
            "gridcolor": "white",
            "linecolor": "white",
            "ticks": ""
           },
           "baxis": {
            "gridcolor": "white",
            "linecolor": "white",
            "ticks": ""
           },
           "bgcolor": "#E5ECF6",
           "caxis": {
            "gridcolor": "white",
            "linecolor": "white",
            "ticks": ""
           }
          },
          "title": {
           "x": 0.05
          },
          "xaxis": {
           "automargin": true,
           "gridcolor": "white",
           "linecolor": "white",
           "ticks": "",
           "title": {
            "standoff": 15
           },
           "zerolinecolor": "white",
           "zerolinewidth": 2
          },
          "yaxis": {
           "automargin": true,
           "gridcolor": "white",
           "linecolor": "white",
           "ticks": "",
           "title": {
            "standoff": 15
           },
           "zerolinecolor": "white",
           "zerolinewidth": 2
          }
         }
        },
        "title": {
         "text": "Distribución de la precipitación en Valencia"
        },
        "xaxis": {
         "title": {
          "text": "Precipitación"
         }
        },
        "yaxis": {
         "title": {
          "text": "Frecuencia"
         }
        }
       }
      }
     },
     "metadata": {},
     "output_type": "display_data"
    }
   ],
   "source": [
    "# Crear un histograma para mostrar la distribución de la precipitación a lo largo del año en esa ciudad.\n",
    "\n",
    "fig = go.Figure()\n",
    "fig.add_trace(\n",
    "      go.Histogram(\n",
    "          x = clima_valencia_df[\"Precipitación\"],\n",
    "          name = 'Lineas'\n",
    "      ))\n",
    "\n",
    "fig.update_layout(\n",
    "    title = \"Distribución de la precipitación en Valencia\",\n",
    "    yaxis_title = \"Frecuencia\",\n",
    "    xaxis_title = \"Precipitación\"\n",
    ")\n",
    "\n",
    "fig.show()\n"
   ]
  }
 ],
 "metadata": {
  "kernelspec": {
   "display_name": "Python 3",
   "language": "python",
   "name": "python3"
  },
  "language_info": {
   "codemirror_mode": {
    "name": "ipython",
    "version": 3
   },
   "file_extension": ".py",
   "mimetype": "text/x-python",
   "name": "python",
   "nbconvert_exporter": "python",
   "pygments_lexer": "ipython3",
   "version": "3.9.18"
  }
 },
 "nbformat": 4,
 "nbformat_minor": 2
}
